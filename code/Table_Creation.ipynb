{
  "nbformat": 4,
  "nbformat_minor": 0,
  "metadata": {
    "colab": {
      "provenance": []
    },
    "kernelspec": {
      "name": "python3",
      "display_name": "Python 3"
    },
    "language_info": {
      "name": "python"
    }
  },
  "cells": [
    {
      "cell_type": "code",
      "execution_count": 6,
      "metadata": {
        "id": "DqP4XL3rYs2T"
      },
      "outputs": [],
      "source": [
        "import psycopg2"
      ]
    },
    {
      "cell_type": "code",
      "source": [
        "# Make connection to the database\n",
        "dbname = \"postgres\"\n",
        "user = \"postgres\"\n",
        "password = \"hello123\"\n",
        "host = \"apprentice-training-2023-rds.cth7tqaptja4.us-west-1.rds.amazonaws.com\"\n",
        "\n",
        "# Establish a connection\n",
        "try:\n",
        "  connection = psycopg2.connect(\n",
        "      dbname=dbname,\n",
        "      user=user,\n",
        "      password=password,\n",
        "      host=host\n",
        "      )\n",
        "  print(\"Connection Successful\")\n",
        "except:\n",
        "  print(\"Connection Failed\")"
      ],
      "metadata": {
        "colab": {
          "base_uri": "https://localhost:8080/"
        },
        "id": "YoVgwLD3YuFt",
        "outputId": "7c5308a5-ac55-4473-d299-910f76f3299d"
      },
      "execution_count": 2,
      "outputs": [
        {
          "output_type": "stream",
          "name": "stdout",
          "text": [
            "Connection Successful\n"
          ]
        }
      ]
    },
    {
      "cell_type": "code",
      "source": [
        "cursor = connection.cursor()"
      ],
      "metadata": {
        "id": "430c4wl7Yz_l"
      },
      "execution_count": 7,
      "outputs": []
    },
    {
      "cell_type": "code",
      "source": [
        "# Create table\n",
        "create_table_query = \"\"\"\n",
        "    CREATE TABLE IF NOT EXISTS apprentice_kushal (\n",
        "    ID INTEGER PRIMARY KEY,\n",
        "    TITLE TEXT,\n",
        "    WORTH TEXT,\n",
        "    DESCRIPTION TEXT,\n",
        "    INSTRUCTIONS TEXT,\n",
        "    OPEN_GIVEAWAY_URL TEXT,\n",
        "    TYPE TEXT,\n",
        "    PLATFORMS TEXT,\n",
        "    END_DATE VARCHAR,\n",
        "    USERS INTEGER,\n",
        "    STATUS TEXT,\n",
        "    GAMERPOWER_URL TEXT,\n",
        "    OPEN_GIVEAWAY TEXT\n",
        ");\"\"\""
      ],
      "metadata": {
        "id": "kLXfY3rpbsJo"
      },
      "execution_count": 4,
      "outputs": []
    },
    {
      "cell_type": "code",
      "source": [
        "cursor.execute(create_table_query)\n",
        "connection.commit()"
      ],
      "metadata": {
        "id": "RePSGehccu7w"
      },
      "execution_count": 5,
      "outputs": []
    }
  ]
}